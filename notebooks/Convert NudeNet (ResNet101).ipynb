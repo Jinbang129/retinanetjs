{
 "cells": [
  {
   "cell_type": "markdown",
   "metadata": {},
   "source": [
    "This notebook converts the published NudeNet weights to TensorFlowJS."
   ]
  },
  {
   "cell_type": "code",
   "execution_count": null,
   "metadata": {},
   "outputs": [],
   "source": [
    "import urllib.request\n",
    "urllib.request.urlretrieve(\n",
    "    \"https://github.com/bedapudi6788/NudeNet-models/raw/master/v1/detector_model\",\n",
    "    \"resnet101_nudenet_detector.h5\"\n",
    ")"
   ]
  },
  {
   "cell_type": "code",
   "execution_count": null,
   "metadata": {},
   "outputs": [],
   "source": [
    "%run Functions.ipynb\n",
    "save_retinanet_to_savedmodel(\n",
    "    backbone_name='resnet101',\n",
    "    weights_path='resnet101_nudenet_detector.h5',\n",
    "    num_classes=6,\n",
    "    export_path='nudenet_savedmodel',\n",
    "    preprocessing_mode='caffe',\n",
    "    nms=True,\n",
    "    class_specific_filter=True\n",
    ")"
   ]
  },
  {
   "cell_type": "code",
   "execution_count": null,
   "metadata": {},
   "outputs": [],
   "source": [
    "%run Functions.ipynb\n",
    "convert_retinanet_savedmodel_to_tfjs(\n",
    "    tf_savedmodel_dir='nudenet_savedmodel',\n",
    "    tfjs_dir='resnet101_nudenet_detector'\n",
    ")"
   ]
  },
  {
   "cell_type": "code",
   "execution_count": null,
   "metadata": {},
   "outputs": [],
   "source": []
  }
 ],
 "metadata": {
  "kernelspec": {
   "display_name": "Python 3",
   "language": "python",
   "name": "python3"
  },
  "language_info": {
   "codemirror_mode": {
    "name": "ipython",
    "version": 3
   },
   "file_extension": ".py",
   "mimetype": "text/x-python",
   "name": "python",
   "nbconvert_exporter": "python",
   "pygments_lexer": "ipython3",
   "version": "3.6.8"
  }
 },
 "nbformat": 4,
 "nbformat_minor": 2
}
