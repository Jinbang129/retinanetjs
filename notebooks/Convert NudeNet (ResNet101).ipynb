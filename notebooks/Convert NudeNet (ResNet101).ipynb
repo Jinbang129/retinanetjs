{
 "cells": [
  {
   "cell_type": "code",
   "execution_count": null,
   "metadata": {},
   "outputs": [],
   "source": [
    "import urllib.request\n",
    "\n",
    "import keras\n",
    "from keras_retinanet import models\n",
    "\n",
    "urllib.request.urlretrieve(\n",
    "    \"https://github.com/bedapudi6788/NudeNet-models/raw/master/v1/detector_model\",\n",
    "    \"resnet101_nudenet.h5\"\n",
    ")\n",
    "\n",
    "model = models.backbone(backbone_name='resnet101').retinanet(\n",
    "    num_classes=6, inputs=keras.layers.Input((512, 512, 3))\n",
    ")\n",
    "model.load_weights('resnet101_nudenet.h5')\n",
    "model.save('resnet101_nudenet_full.h5')\n",
    "\n",
    "!tensorflowjs_converter \\\n",
    "    --input_format=keras \\\n",
    "    --output_format=tfjs_layers_model \\\n",
    "     resnet101_nudenet_full.h5 \\\n",
    "     resnet101_nudenet"
   ]
  }
 ],
 "metadata": {
  "kernelspec": {
   "display_name": "Python 3",
   "language": "python",
   "name": "python3"
  },
  "language_info": {
   "codemirror_mode": {
    "name": "ipython",
    "version": 3
   },
   "file_extension": ".py",
   "mimetype": "text/x-python",
   "name": "python",
   "nbconvert_exporter": "python",
   "pygments_lexer": "ipython3",
   "version": "3.6.8"
  }
 },
 "nbformat": 4,
 "nbformat_minor": 2
}
