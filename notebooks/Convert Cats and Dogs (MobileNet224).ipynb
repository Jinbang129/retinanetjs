{
 "cells": [
  {
   "cell_type": "code",
   "execution_count": null,
   "metadata": {},
   "outputs": [],
   "source": [
    "!pip install mira"
   ]
  },
  {
   "cell_type": "markdown",
   "metadata": {},
   "source": [
    "This notebook uses `mira` to train a RetinaNet model to detect cats and dogs in images. Each cell is intended to be run in a separate kernel session. The first cell is most quickly executed on Google Colaboratory."
   ]
  },
  {
   "cell_type": "code",
   "execution_count": null,
   "metadata": {},
   "outputs": [],
   "source": [
    "from mira import datasets, detectors\n",
    "from imgaug import augmenters as iaa\n",
    "from keras import callbacks\n",
    "\n",
    "# Load the Oxford pets datasets with a class\n",
    "# for each breed.\n",
    "dataset = datasets.load_oxfordiiitpets(breed=False)\n",
    "\n",
    "# Load RetinaNet with pretrained backbone with MobileNet\n",
    "detector = detectors.RetinaNet(\n",
    "    input_shape=(224, 224, 3),\n",
    "    pretrained_top=False,\n",
    "    pretrained_backbone=True,\n",
    "    annotation_config=dataset.annotation_config,\n",
    "    backbone_name='mobilenet224_1_0'\n",
    ")\n",
    "\n",
    "# Split our dataset into training, validation,\n",
    "# and test.\n",
    "trainval, testing = dataset.train_test_split(\n",
    "    train_size=0.7, test_size=0.3\n",
    ")\n",
    "training, validation = trainval.train_test_split(\n",
    "    train_size=0.66, test_size=0.33\n",
    ")\n",
    "\n",
    "# Create an augmenter\n",
    "augmenter = iaa.Sequential([\n",
    "    iaa.Fliplr(0.5), # horizontally flip 50% of the images\n",
    "    iaa.GaussianBlur(sigma=(0, 3.0)) # blur images with a sigma of 0 to 3.0\n",
    "])\n",
    "\n",
    "# Make a callback to stop the training job\n",
    "# early if we plateau on the validation set.\n",
    "cbs = [\n",
    "    callbacks.EarlyStopping(\n",
    "        monitor='val_loss',\n",
    "        min_delta=0.1,\n",
    "        patience=50,\n",
    "        verbose=1,\n",
    "        mode='auto',\n",
    "        restore_best_weights=True\n",
    "    )\n",
    "]\n",
    "\n",
    "# Run training job\n",
    "detector.train(\n",
    "    training=training,\n",
    "    validation=validation,\n",
    "    steps_per_epoch=50,\n",
    "    epochs=1000,\n",
    "    batch_size=8,\n",
    "    augmenter=augmenter,\n",
    "    callbacks=cbs\n",
    ")\n",
    "detector.model.save_weights('mobilenet224_1_0_oxfordnobreeds.h5')"
   ]
  },
  {
   "cell_type": "code",
   "execution_count": null,
   "metadata": {},
   "outputs": [],
   "source": [
    "%run Functions.ipynb\n",
    "save_retinanet_to_savedmodel(\n",
    "    backbone_name='mobilenet224_1_0',\n",
    "    weights_path='mobilenet224_1_0_oxfordnobreeds.h5',\n",
    "    num_classes=2,\n",
    "    export_path='oxford_nobreeds_savedmodel',\n",
    "    preprocessing_mode='tf',\n",
    "    nms=True,\n",
    "    class_specific_filter=True\n",
    ")"
   ]
  },
  {
   "cell_type": "code",
   "execution_count": null,
   "metadata": {},
   "outputs": [],
   "source": [
    "%run Functions.ipynb\n",
    "convert_retinanet_savedmodel_to_tfjs(\n",
    "    tf_savedmodel_dir='oxford_nobreeds_savedmodel',\n",
    "    tfjs_dir='oxfordiiitcatdog_mobilenet224'\n",
    ")"
   ]
  }
 ],
 "metadata": {
  "kernelspec": {
   "display_name": "Python 3",
   "language": "python",
   "name": "python3"
  },
  "language_info": {
   "codemirror_mode": {
    "name": "ipython",
    "version": 3
   },
   "file_extension": ".py",
   "mimetype": "text/x-python",
   "name": "python",
   "nbconvert_exporter": "python",
   "pygments_lexer": "ipython3",
   "version": "3.6.8"
  }
 },
 "nbformat": 4,
 "nbformat_minor": 2
}
