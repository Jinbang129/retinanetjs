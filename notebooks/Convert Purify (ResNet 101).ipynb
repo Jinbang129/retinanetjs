{
 "cells": [
  {
   "cell_type": "code",
   "execution_count": null,
   "metadata": {},
   "outputs": [],
   "source": [
    "import keras\n",
    "from keras_retinanet import models\n",
    "\n",
    "model = models.backbone(backbone_name='resnet101').retinanet(\n",
    "    num_classes=8, inputs=keras.layers.Input((512, 512, 3))\n",
    ")\n",
    "model.load_weights('resnet101_purify.h5')\n",
    "model.save('resnet101_purify_full.h5')"
   ]
  },
  {
   "cell_type": "code",
   "execution_count": 4,
   "metadata": {},
   "outputs": [],
   "source": [
    "!tensorflowjs_converter \\\n",
    "    --input_format=keras \\\n",
    "    --output_format=tfjs_layers_model \\\n",
    "    --quantization_bytes=2 \\\n",
    "     resnet101_purify_full.h5 \\\n",
    "     resnet101_purify"
   ]
  },
  {
   "cell_type": "code",
   "execution_count": null,
   "metadata": {},
   "outputs": [],
   "source": [
    "# Benchmarking\n",
    "import keras\n",
    "import numpy as np\n",
    "\n",
    "from keras_retinanet import models\n",
    "\n",
    "model = models.backbone(backbone_name='resnet101').retinanet(\n",
    "    num_classes=8, inputs=keras.layers.Input((512, 512, 3))\n",
    ")\n",
    "model.load_weights('resnet150_purify.h5')\n",
    "model = models.convert_model(\n",
    "    model=model,\n",
    "    nms=True,\n",
    "    class_specific_filter=False\n",
    ")\n",
    "X = np.random.randint(low=0, high=255, size=(1, 512, 512, 3))\n",
    "%timeit model.predict(X)"
   ]
  }
 ],
 "metadata": {
  "kernelspec": {
   "display_name": "Python 3",
   "language": "python",
   "name": "python3"
  },
  "language_info": {
   "codemirror_mode": {
    "name": "ipython",
    "version": 3
   },
   "file_extension": ".py",
   "mimetype": "text/x-python",
   "name": "python",
   "nbconvert_exporter": "python",
   "pygments_lexer": "ipython3",
   "version": "3.6.8"
  }
 },
 "nbformat": 4,
 "nbformat_minor": 2
}
